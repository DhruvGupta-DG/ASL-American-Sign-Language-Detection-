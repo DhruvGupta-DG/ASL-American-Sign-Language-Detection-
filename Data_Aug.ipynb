{
 "cells": [
  {
   "cell_type": "code",
   "execution_count": 16,
   "metadata": {},
   "outputs": [],
   "source": [
    "# Data Augmentation techniques for bhavy's hand's signs images. \n",
    "# First part of the project: Creating artificial dataset for training the model. "
   ]
  },
  {
   "cell_type": "code",
   "execution_count": 17,
   "metadata": {},
   "outputs": [],
   "source": [
    "# Importing libraries for data augmentation\n",
    "# Here, we are going to use keras library for the augmentation process.\n",
    "\n",
    "from numpy import expand_dims\n",
    "from keras_preprocessing.image import img_to_array\n",
    "from keras_preprocessing.image import load_img\n",
    "from keras_preprocessing.image import array_to_img\n",
    "from keras_preprocessing.image import ImageDataGenerator\n",
    "from matplotlib import pyplot\n",
    "from PIL import Image\n",
    "from IPython.display import Image\n",
    "from skimage import io\n",
    "import numpy as np\n",
    "import matplotlib.pyplot as plt\n",
    "import os"
   ]
  },
  {
   "attachments": {},
   "cell_type": "markdown",
   "metadata": {},
   "source": [
    "Pipeline 1"
   ]
  },
  {
   "cell_type": "code",
   "execution_count": 18,
   "metadata": {},
   "outputs": [
    {
     "name": "stdout",
     "output_type": "stream",
     "text": [
      "Found 24 images belonging to 24 classes.\n"
     ]
    }
   ],
   "source": [
    "# Define an ImageDataGenerator object\n",
    "datagen = ImageDataGenerator(\n",
    "    rotation_range=0,  # rotate the image by up to 0 degrees\n",
    "    width_shift_range=0.1,  # shift the image horizontally by up to 10%\n",
    "    height_shift_range=0.1,  # shift the image vertically by up to 10%\n",
    "    shear_range=0.0,  # apply shear transformation with a range of 0.1 radians\n",
    "    zoom_range=0.0,  # zoom in or out of the image by up to 0%\n",
    "    horizontal_flip=False,  # flip the image horizontally with 50% probability\n",
    "    brightness_range=None,\n",
    "    fill_mode='nearest'  # fill missing pixels with the nearest value\n",
    ")\n",
    "\n",
    "\n",
    "i = 1\n",
    "for batch in datagen.flow_from_directory(directory='Mid_Raw_Folders', batch_size=16, target_size=(256, 256), color_mode='rgb', save_to_dir='Augmented Data', save_prefix='Aug', save_format='png'):\n",
    "    i += 1\n",
    "    if i >= 100:\n",
    "        break\n"
   ]
  },
  {
   "attachments": {},
   "cell_type": "markdown",
   "metadata": {},
   "source": [
    "Pipeline 2"
   ]
  },
  {
   "cell_type": "code",
   "execution_count": 19,
   "metadata": {},
   "outputs": [
    {
     "name": "stdout",
     "output_type": "stream",
     "text": [
      "Found 24 images belonging to 24 classes.\n"
     ]
    }
   ],
   "source": [
    "# Define an ImageDataGenerator object\n",
    "datagen = ImageDataGenerator(\n",
    "    rotation_range=10,  # rotate the image by up to 10 degrees\n",
    "    width_shift_range=0.1,  # shift the image horizontally by up to 10%\n",
    "    height_shift_range=0.1,  # shift the image vertically by up to 10%\n",
    "    shear_range=0.1,  # apply shear transformation with a range of 0.1 radians\n",
    "    zoom_range=0.1,  # zoom in or out of the image by up to 10%\n",
    "    horizontal_flip=False,  # flip the image horizontally with 50% probability\n",
    "    brightness_range=(0.2,0.5),\n",
    "    fill_mode='nearest'  # fill missing pixels with the nearest value\n",
    ")\n",
    "\n",
    "\n",
    "i = 1\n",
    "for batch in datagen.flow_from_directory(directory='Mid_Raw_Folders', batch_size=16, target_size=(256, 256), color_mode='rgb', save_to_dir='Augmented Data', save_prefix='Aug', save_format='png'):\n",
    "    i += 1\n",
    "    if i >= 100:\n",
    "        break\n"
   ]
  },
  {
   "attachments": {},
   "cell_type": "markdown",
   "metadata": {},
   "source": [
    "Pipeline 3"
   ]
  },
  {
   "cell_type": "code",
   "execution_count": 20,
   "metadata": {},
   "outputs": [
    {
     "name": "stdout",
     "output_type": "stream",
     "text": [
      "Found 24 images belonging to 24 classes.\n"
     ]
    }
   ],
   "source": [
    "# Define an ImageDataGenerator object\n",
    "datagen = ImageDataGenerator(\n",
    "    rotation_range=15,  # rotate the image by up to 15 degrees\n",
    "    width_shift_range=0.2,  # shift the image horizontally by up to 20%\n",
    "    height_shift_range=0.2,  # shift the image vertically by up to 20%\n",
    "    shear_range=0.2,  # apply shear transformation with a range of 0.2 radians\n",
    "    zoom_range=0.2,  # zoom in or out of the image by up to 20%\n",
    "    horizontal_flip=True,  # flip the image horizontally with 50% probability\n",
    "    brightness_range=(0.5,0.7),\n",
    "    fill_mode='nearest'  # fill missing pixels with the nearest value\n",
    ")\n",
    "\n",
    "\n",
    "i = 1\n",
    "for batch in datagen.flow_from_directory(directory='Mid_Raw_Folders', batch_size=16, target_size=(256, 256), color_mode='rgb', save_to_dir='Augmented Data', save_prefix='Aug', save_format='png'):\n",
    "    i += 1\n",
    "    if i >= 100:\n",
    "        break\n"
   ]
  },
  {
   "attachments": {},
   "cell_type": "markdown",
   "metadata": {},
   "source": [
    "Pipeline 4"
   ]
  },
  {
   "cell_type": "code",
   "execution_count": 21,
   "metadata": {},
   "outputs": [
    {
     "name": "stdout",
     "output_type": "stream",
     "text": [
      "Found 24 images belonging to 24 classes.\n"
     ]
    }
   ],
   "source": [
    "# Define an ImageDataGenerator object\n",
    "datagen = ImageDataGenerator(\n",
    "    rotation_range=20,  # rotate the image by up to 20 degrees\n",
    "    width_shift_range=0.25,  # shift the image horizontally by up to 25%\n",
    "    height_shift_range=0.25,  # shift the image vertically by up to 25%\n",
    "    shear_range=0.2,  # apply shear transformation with a range of 0.2 radians\n",
    "    zoom_range=0.2,  # zoom in or out of the image by up to 20%\n",
    "    horizontal_flip=True,  # flip the image horizontally with 50% probability\n",
    "    brightness_range=(0.8,1.3),\n",
    "    fill_mode='nearest'  # fill missing pixels with the nearest value\n",
    ")\n",
    "\n",
    "\n",
    "i = 1\n",
    "for batch in datagen.flow_from_directory(directory='Mid_Raw_Folders', batch_size=16, target_size=(256, 256), color_mode='rgb', save_to_dir='Augmented Data', save_prefix='Aug', save_format='png'):\n",
    "    i += 1\n",
    "    if i >= 100:\n",
    "        break\n"
   ]
  },
  {
   "attachments": {},
   "cell_type": "markdown",
   "metadata": {},
   "source": [
    "Pipeline 5"
   ]
  },
  {
   "cell_type": "code",
   "execution_count": 22,
   "metadata": {},
   "outputs": [
    {
     "name": "stdout",
     "output_type": "stream",
     "text": [
      "Found 24 images belonging to 24 classes.\n"
     ]
    }
   ],
   "source": [
    "# Define an ImageDataGenerator object\n",
    "datagen = ImageDataGenerator(\n",
    "    rotation_range=25,  # rotate the image by up to 25 degrees\n",
    "    width_shift_range=0.3,  # shift the image horizontally by up to 30%\n",
    "    height_shift_range=0.3,  # shift the image vertically by up to 30%\n",
    "    shear_range=0.3,  # apply shear transformation with a range of 0.3 radians\n",
    "    zoom_range=0.3,  # zoom in or out of the image by up to 30%\n",
    "    horizontal_flip=False,  # flip the image horizontally with 50% probability\n",
    "    brightness_range=None,\n",
    "    fill_mode='nearest'  # fill missing pixels with the nearest value\n",
    ")\n",
    "\n",
    "\n",
    "i = 1\n",
    "for batch in datagen.flow_from_directory(directory='Mid_Raw_Folders', batch_size=16, target_size=(256, 256), color_mode='rgb', save_to_dir='Augmented Data', save_prefix='Aug', save_format='png'):\n",
    "    i += 1\n",
    "    if i >= 100:\n",
    "        break\n"
   ]
  }
 ],
 "metadata": {
  "kernelspec": {
   "display_name": "Python 3",
   "language": "python",
   "name": "python3"
  },
  "language_info": {
   "codemirror_mode": {
    "name": "ipython",
    "version": 3
   },
   "file_extension": ".py",
   "mimetype": "text/x-python",
   "name": "python",
   "nbconvert_exporter": "python",
   "pygments_lexer": "ipython3",
   "version": "3.10.7"
  },
  "orig_nbformat": 4,
  "vscode": {
   "interpreter": {
    "hash": "3ee691e3c2883c6a130fe7a4fe904a1eaf00aeea2af805a016ed0d0bd8e74479"
   }
  }
 },
 "nbformat": 4,
 "nbformat_minor": 2
}
